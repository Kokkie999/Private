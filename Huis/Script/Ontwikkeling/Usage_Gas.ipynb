{
 "cells": [
  {
   "cell_type": "markdown",
   "metadata": {},
   "source": [
    "# Voorspellen gebruik van gas"
   ]
  },
  {
   "cell_type": "markdown",
   "metadata": {},
   "source": [
    "## 1. Importen packages en dataframe"
   ]
  },
  {
   "cell_type": "markdown",
   "metadata": {},
   "source": [
    "### 1.1 Packages"
   ]
  },
  {
   "cell_type": "code",
   "execution_count": 103,
   "metadata": {},
   "outputs": [],
   "source": [
    "import pandas as pd \n",
    "import numpy as np \n",
    "import datetime as dt\n",
    "import matplotlib.pyplot as pltmat\n",
    "\n",
    "%matplotlib inline"
   ]
  },
  {
   "cell_type": "markdown",
   "metadata": {},
   "source": [
    "### 1.2 Ophalen data van Raspberry PI"
   ]
  },
  {
   "cell_type": "code",
   "execution_count": 225,
   "metadata": {},
   "outputs": [
    {
     "data": {
      "text/html": [
       "<div>\n",
       "<style scoped>\n",
       "    .dataframe tbody tr th:only-of-type {\n",
       "        vertical-align: middle;\n",
       "    }\n",
       "\n",
       "    .dataframe tbody tr th {\n",
       "        vertical-align: top;\n",
       "    }\n",
       "\n",
       "    .dataframe thead th {\n",
       "        text-align: right;\n",
       "    }\n",
       "</style>\n",
       "<table border=\"1\" class=\"dataframe\">\n",
       "  <thead>\n",
       "    <tr style=\"text-align: right;\">\n",
       "      <th></th>\n",
       "      <th>timestamp</th>\n",
       "      <th>date</th>\n",
       "      <th>usage</th>\n",
       "      <th>temp_room</th>\n",
       "      <th>temp_setting</th>\n",
       "      <th>temp_out</th>\n",
       "    </tr>\n",
       "  </thead>\n",
       "  <tbody>\n",
       "    <tr>\n",
       "      <th>0</th>\n",
       "      <td>2019-02-14 21:34:00</td>\n",
       "      <td>2019-02-14</td>\n",
       "      <td>NaN</td>\n",
       "      <td>20.0</td>\n",
       "      <td>20.0</td>\n",
       "      <td>3.7</td>\n",
       "    </tr>\n",
       "    <tr>\n",
       "      <th>1</th>\n",
       "      <td>2019-02-14 21:35:00</td>\n",
       "      <td>2019-02-14</td>\n",
       "      <td>NaN</td>\n",
       "      <td>20.0</td>\n",
       "      <td>20.0</td>\n",
       "      <td>3.7</td>\n",
       "    </tr>\n",
       "    <tr>\n",
       "      <th>2</th>\n",
       "      <td>2019-02-14 21:36:00</td>\n",
       "      <td>2019-02-14</td>\n",
       "      <td>NaN</td>\n",
       "      <td>20.0</td>\n",
       "      <td>20.0</td>\n",
       "      <td>3.7</td>\n",
       "    </tr>\n",
       "    <tr>\n",
       "      <th>3</th>\n",
       "      <td>2019-02-14 21:37:00</td>\n",
       "      <td>2019-02-14</td>\n",
       "      <td>NaN</td>\n",
       "      <td>20.0</td>\n",
       "      <td>20.0</td>\n",
       "      <td>3.7</td>\n",
       "    </tr>\n",
       "    <tr>\n",
       "      <th>4</th>\n",
       "      <td>2019-02-14 21:38:00</td>\n",
       "      <td>2019-02-14</td>\n",
       "      <td>NaN</td>\n",
       "      <td>20.0</td>\n",
       "      <td>20.0</td>\n",
       "      <td>3.7</td>\n",
       "    </tr>\n",
       "  </tbody>\n",
       "</table>\n",
       "</div>"
      ],
      "text/plain": [
       "            timestamp       date  usage  temp_room  temp_setting  temp_out\n",
       "0 2019-02-14 21:34:00 2019-02-14    NaN       20.0          20.0       3.7\n",
       "1 2019-02-14 21:35:00 2019-02-14    NaN       20.0          20.0       3.7\n",
       "2 2019-02-14 21:36:00 2019-02-14    NaN       20.0          20.0       3.7\n",
       "3 2019-02-14 21:37:00 2019-02-14    NaN       20.0          20.0       3.7\n",
       "4 2019-02-14 21:38:00 2019-02-14    NaN       20.0          20.0       3.7"
      ]
     },
     "execution_count": 225,
     "metadata": {},
     "output_type": "execute_result"
    }
   ],
   "source": [
    "df = pd.read_csv('//raspberrypi/pi/domoticz/data/logging.csv')\n",
    "df.columns = df.columns.str.lower()\n",
    "df['timestamp'] = pd.to_datetime(df['timestamp'], format=\"%d-%m-%Y %H:%M:%S\")\n",
    "df['datum'] = pd.to_datetime(df['timestamp'].dt.date)\n",
    "\n",
    "df = df[['timestamp', 'datum', 'dagverbruik_gas', 'kamertemperatuur', 'thermostaat', 'buitentemperatuur']]\n",
    "df = df.rename(columns={'datum': 'date', \n",
    "                        'dagverbruik_gas': 'usage', \n",
    "                        'kamertemperatuur': 'temp_room', \n",
    "                        'thermostaat': 'temp_setting', \n",
    "                        'buitentemperatuur': 'temp_out'})\n",
    "\n",
    "df.head(5)"
   ]
  },
  {
   "cell_type": "markdown",
   "metadata": {},
   "source": [
    "# 2 Eerste inzichten"
   ]
  },
  {
   "cell_type": "markdown",
   "metadata": {},
   "source": [
    "### 2.1 Gasverbruik"
   ]
  },
  {
   "cell_type": "code",
   "execution_count": 226,
   "metadata": {},
   "outputs": [
    {
     "data": {
      "text/plain": [
       "<matplotlib.axes._subplots.AxesSubplot at 0x1e58f001fc8>"
      ]
     },
     "execution_count": 226,
     "metadata": {},
     "output_type": "execute_result"
    },
    {
     "data": {
      "image/png": "[encoded data removed]",
      "text/plain": [
       "<Figure size 1152x432 with 1 Axes>"
      ]
     },
     "metadata": {
      "needs_background": "light"
     },
     "output_type": "display_data"
    }
   ],
   "source": [
    "(\n",
    "    df[['date', 'usage']]\n",
    "    .dropna(subset=['usage'])\n",
    "    .set_index('date')\n",
    "    .plot(figsize=(16,6))\n",
    ")"
   ]
  },
  {
   "cell_type": "code",
   "execution_count": 228,
   "metadata": {},
   "outputs": [
    {
     "data": {
      "text/html": [
       "<div>\n",
       "<style scoped>\n",
       "    .dataframe tbody tr th:only-of-type {\n",
       "        vertical-align: middle;\n",
       "    }\n",
       "\n",
       "    .dataframe tbody tr th {\n",
       "        vertical-align: top;\n",
       "    }\n",
       "\n",
       "    .dataframe thead th {\n",
       "        text-align: right;\n",
       "    }\n",
       "</style>\n",
       "<table border=\"1\" class=\"dataframe\">\n",
       "  <thead>\n",
       "    <tr style=\"text-align: right;\">\n",
       "      <th></th>\n",
       "      <th>date</th>\n",
       "      <th>usage</th>\n",
       "      <th>temp_room</th>\n",
       "      <th>temp_out</th>\n",
       "      <th>temp_outside</th>\n",
       "    </tr>\n",
       "  </thead>\n",
       "  <tbody>\n",
       "    <tr>\n",
       "      <th>1586</th>\n",
       "      <td>2019-02-16</td>\n",
       "      <td>4.237</td>\n",
       "      <td>21.277955</td>\n",
       "      <td>5.7</td>\n",
       "      <td>13.213544</td>\n",
       "    </tr>\n",
       "    <tr>\n",
       "      <th>3026</th>\n",
       "      <td>2019-02-17</td>\n",
       "      <td>6.753</td>\n",
       "      <td>21.277955</td>\n",
       "      <td>4.5</td>\n",
       "      <td>13.213544</td>\n",
       "    </tr>\n",
       "    <tr>\n",
       "      <th>4464</th>\n",
       "      <td>2019-02-18</td>\n",
       "      <td>4.326</td>\n",
       "      <td>21.277955</td>\n",
       "      <td>6.0</td>\n",
       "      <td>13.213544</td>\n",
       "    </tr>\n",
       "    <tr>\n",
       "      <th>5904</th>\n",
       "      <td>2019-02-19</td>\n",
       "      <td>5.517</td>\n",
       "      <td>21.277955</td>\n",
       "      <td>7.9</td>\n",
       "      <td>13.213544</td>\n",
       "    </tr>\n",
       "    <tr>\n",
       "      <th>7344</th>\n",
       "      <td>2019-02-20</td>\n",
       "      <td>6.390</td>\n",
       "      <td>21.277955</td>\n",
       "      <td>6.8</td>\n",
       "      <td>13.213544</td>\n",
       "    </tr>\n",
       "    <tr>\n",
       "      <th>8784</th>\n",
       "      <td>2019-02-21</td>\n",
       "      <td>7.274</td>\n",
       "      <td>21.277955</td>\n",
       "      <td>5.9</td>\n",
       "      <td>13.213544</td>\n",
       "    </tr>\n",
       "    <tr>\n",
       "      <th>10224</th>\n",
       "      <td>2019-02-22</td>\n",
       "      <td>6.293</td>\n",
       "      <td>21.277955</td>\n",
       "      <td>8.0</td>\n",
       "      <td>13.213544</td>\n",
       "    </tr>\n",
       "    <tr>\n",
       "      <th>11664</th>\n",
       "      <td>2019-02-23</td>\n",
       "      <td>5.678</td>\n",
       "      <td>21.277955</td>\n",
       "      <td>7.5</td>\n",
       "      <td>13.213544</td>\n",
       "    </tr>\n",
       "    <tr>\n",
       "      <th>13104</th>\n",
       "      <td>2019-02-24</td>\n",
       "      <td>4.752</td>\n",
       "      <td>21.277955</td>\n",
       "      <td>5.3</td>\n",
       "      <td>13.213544</td>\n",
       "    </tr>\n",
       "    <tr>\n",
       "      <th>14544</th>\n",
       "      <td>2019-02-25</td>\n",
       "      <td>3.688</td>\n",
       "      <td>21.277955</td>\n",
       "      <td>4.5</td>\n",
       "      <td>13.213544</td>\n",
       "    </tr>\n",
       "  </tbody>\n",
       "</table>\n",
       "</div>"
      ],
      "text/plain": [
       "            date  usage  temp_room  temp_out  temp_outside\n",
       "1586  2019-02-16  4.237  21.277955       5.7     13.213544\n",
       "3026  2019-02-17  6.753  21.277955       4.5     13.213544\n",
       "4464  2019-02-18  4.326  21.277955       6.0     13.213544\n",
       "5904  2019-02-19  5.517  21.277955       7.9     13.213544\n",
       "7344  2019-02-20  6.390  21.277955       6.8     13.213544\n",
       "8784  2019-02-21  7.274  21.277955       5.9     13.213544\n",
       "10224 2019-02-22  6.293  21.277955       8.0     13.213544\n",
       "11664 2019-02-23  5.678  21.277955       7.5     13.213544\n",
       "13104 2019-02-24  4.752  21.277955       5.3     13.213544\n",
       "14544 2019-02-25  3.688  21.277955       4.5     13.213544"
      ]
     },
     "execution_count": 228,
     "metadata": {},
     "output_type": "execute_result"
    }
   ],
   "source": [
    "(\n",
    "    df\n",
    "    .assign(temp_room=lambda d: d['temp_room'].mean())\n",
    "    .assign(temp_outside=lambda d: d['temp_out'].mean())\n",
    "    .drop(['timestamp', 'temp_setting'], axis=1)\n",
    "    .dropna(subset=['usage'])\n",
    "    .head(10)\n",
    "#    .set_index('datum')\n",
    "#    .plot(figsize=(16,6))\n",
    ")"
   ]
  },
  {
   "cell_type": "markdown",
   "metadata": {},
   "source": [
    "## 2. Bepalen hoeveel gas er gemiddeld per dag wordt verbruikt in de maand juni en augustus"
   ]
  },
  {
   "cell_type": "markdown",
   "metadata": {},
   "source": [
    "### 2.1 Dagverbruik juni"
   ]
  },
  {
   "cell_type": "code",
   "execution_count": 229,
   "metadata": {},
   "outputs": [
    {
     "data": {
      "text/plain": [
       "usage    1.146067\n",
       "dtype: float64"
      ]
     },
     "execution_count": 229,
     "metadata": {},
     "output_type": "execute_result"
    }
   ],
   "source": [
    "df_jun = (\n",
    "    df[['date', 'usage']]\n",
    "    .dropna(subset=['usage'])\n",
    "    .loc[lambda d: d.date >= \"2019-06-01\"]\n",
    "    .loc[lambda d: d.date <= \"2019-06-30\"]\n",
    "    .mean()\n",
    ")\n",
    "df_jun"
   ]
  },
  {
   "cell_type": "markdown",
   "metadata": {},
   "source": [
    "### 2.2 Dagverbruik augustus"
   ]
  },
  {
   "cell_type": "code",
   "execution_count": 230,
   "metadata": {},
   "outputs": [
    {
     "data": {
      "text/plain": [
       "usage    1.13829\n",
       "dtype: float64"
      ]
     },
     "execution_count": 230,
     "metadata": {},
     "output_type": "execute_result"
    }
   ],
   "source": [
    "df_aug = (\n",
    "    df[['date', 'usage']]\n",
    "    .dropna(subset=['usage'])\n",
    "    .loc[lambda d: d.date >= \"2019-08-01\"]\n",
    "    .loc[lambda d: d.date <= \"2019-08-31\"]\n",
    "    .mean()\n",
    ")\n",
    "df_aug"
   ]
  },
  {
   "cell_type": "code",
   "execution_count": 146,
   "metadata": {},
   "outputs": [
    {
     "data": {
      "text/html": [
       "<div>\n",
       "<style scoped>\n",
       "    .dataframe tbody tr th:only-of-type {\n",
       "        vertical-align: middle;\n",
       "    }\n",
       "\n",
       "    .dataframe tbody tr th {\n",
       "        vertical-align: top;\n",
       "    }\n",
       "\n",
       "    .dataframe thead th {\n",
       "        text-align: right;\n",
       "    }\n",
       "</style>\n",
       "<table border=\"1\" class=\"dataframe\">\n",
       "  <thead>\n",
       "    <tr style=\"text-align: right;\">\n",
       "      <th></th>\n",
       "      <th>date</th>\n",
       "      <th>value</th>\n",
       "    </tr>\n",
       "  </thead>\n",
       "  <tbody>\n",
       "    <tr>\n",
       "      <th>0</th>\n",
       "      <td>2018-01-01 00:00:00</td>\n",
       "      <td>-1.042599</td>\n",
       "    </tr>\n",
       "    <tr>\n",
       "      <th>1</th>\n",
       "      <td>2018-01-02 00:00:00</td>\n",
       "      <td>0.785216</td>\n",
       "    </tr>\n",
       "    <tr>\n",
       "      <th>2</th>\n",
       "      <td>2018-01-03 00:00:00</td>\n",
       "      <td>-0.009579</td>\n",
       "    </tr>\n",
       "    <tr>\n",
       "      <th>3</th>\n",
       "      <td>2018-01-04 00:00:00</td>\n",
       "      <td>-1.131027</td>\n",
       "    </tr>\n",
       "    <tr>\n",
       "      <th>4</th>\n",
       "      <td>2018-01-05 00:00:00</td>\n",
       "      <td>-2.479044</td>\n",
       "    </tr>\n",
       "    <tr>\n",
       "      <th>...</th>\n",
       "      <td>...</td>\n",
       "      <td>...</td>\n",
       "    </tr>\n",
       "    <tr>\n",
       "      <th>361</th>\n",
       "      <td>2018-12-28 00:00:00</td>\n",
       "      <td>-0.896905</td>\n",
       "    </tr>\n",
       "    <tr>\n",
       "      <th>362</th>\n",
       "      <td>2018-12-29 00:00:00</td>\n",
       "      <td>0.010470</td>\n",
       "    </tr>\n",
       "    <tr>\n",
       "      <th>363</th>\n",
       "      <td>2018-12-30 00:00:00</td>\n",
       "      <td>-0.242293</td>\n",
       "    </tr>\n",
       "    <tr>\n",
       "      <th>364</th>\n",
       "      <td>2018-12-31 00:00:00</td>\n",
       "      <td>NaN</td>\n",
       "    </tr>\n",
       "    <tr>\n",
       "      <th>365</th>\n",
       "      <td>2019-01-01 00:00:00</td>\n",
       "      <td>0.187705</td>\n",
       "    </tr>\n",
       "  </tbody>\n",
       "</table>\n",
       "<p>366 rows × 2 columns</p>\n",
       "</div>"
      ],
      "text/plain": [
       "                    date     value\n",
       "0    2018-01-01 00:00:00 -1.042599\n",
       "1    2018-01-02 00:00:00  0.785216\n",
       "2    2018-01-03 00:00:00 -0.009579\n",
       "3    2018-01-04 00:00:00 -1.131027\n",
       "4    2018-01-05 00:00:00 -2.479044\n",
       "..                   ...       ...\n",
       "361  2018-12-28 00:00:00 -0.896905\n",
       "362  2018-12-29 00:00:00  0.010470\n",
       "363  2018-12-30 00:00:00 -0.242293\n",
       "364  2018-12-31 00:00:00       NaN\n",
       "365  2019-01-01 00:00:00  0.187705\n",
       "\n",
       "[366 rows x 2 columns]"
      ]
     },
     "execution_count": 146,
     "metadata": {},
     "output_type": "execute_result"
    }
   ],
   "source": [
    "def make_ts_df():\n",
    "    dates = [str(_) for _ in pd.date_range(\"2018-01-01\", \"2019-01-01\")]\n",
    "    values = [np.nan if np.random.random() < 0.05 else _ for _ in np.random.normal(0, 1, 366)]\n",
    "    return pd.DataFrame({\"date\": dates, \"value\": values})\n",
    "\n",
    "date_df = make_ts_df()\n",
    "\n",
    "date_df"
   ]
  },
  {
   "cell_type": "code",
   "execution_count": null,
   "metadata": {},
   "outputs": [],
   "source": []
  }
 ],
 "metadata": {
  "kernelspec": {
   "display_name": "Python 3",
   "language": "python",
   "name": "python3"
  },
  "language_info": {
   "codemirror_mode": {
    "name": "ipython",
    "version": 3
   },
   "file_extension": ".py",
   "mimetype": "text/x-python",
   "name": "python",
   "nbconvert_exporter": "python",
   "pygments_lexer": "ipython3",
   "version": "3.7.5"
  }
 },
 "nbformat": 4,
 "nbformat_minor": 4
}
