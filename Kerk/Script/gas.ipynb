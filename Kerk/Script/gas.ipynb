{
 "cells": [
  {
   "cell_type": "markdown",
   "metadata": {},
   "source": [
    "# Voorspellen gebruik van gas"
   ]
  },
  {
   "cell_type": "markdown",
   "metadata": {},
   "source": [
    "## 1. Importen packages en dataframe"
   ]
  },
  {
   "cell_type": "markdown",
   "metadata": {},
   "source": [
    "### 1.1 Packages"
   ]
  },
  {
   "cell_type": "code",
   "execution_count": 40,
   "metadata": {},
   "outputs": [],
   "source": [
    "import pandas as pd\n",
    "import numpy as np\n",
    "import datetime as dt\n",
    "import plotnine as p9\n",
    "import matplotlib.pyplot as plt\n",
    "#from plotnine import *\n",
    "#from plotnine.data import *\n",
    "\n",
    "%matplotlib inline"
   ]
  },
  {
   "cell_type": "markdown",
   "metadata": {},
   "source": [
    "### 1.2 Ophalen data"
   ]
  },
  {
   "cell_type": "code",
   "execution_count": 128,
   "metadata": {},
   "outputs": [],
   "source": [
    "df = pd.read_csv('c://users//iwan//documents/github//private//kerk//data//dataset.csv')\n",
    "df['datetime'] = pd.to_datetime(df['datetime'], format=\"%d-%m-%Y\")\n",
    "df['date'] = pd.to_datetime(df['datetime'].dt.date)\n",
    "df = df.drop(columns=['datetime'])\n",
    "df.head(5)\n",
    "backup = df.copy()"
   ]
  },
  {
   "cell_type": "code",
   "execution_count": 129,
   "metadata": {},
   "outputs": [
    {
     "data": {
      "text/html": [
       "<div>\n",
       "<style scoped>\n",
       "    .dataframe tbody tr th:only-of-type {\n",
       "        vertical-align: middle;\n",
       "    }\n",
       "\n",
       "    .dataframe tbody tr th {\n",
       "        vertical-align: top;\n",
       "    }\n",
       "\n",
       "    .dataframe thead th {\n",
       "        text-align: right;\n",
       "    }\n",
       "</style>\n",
       "<table border=\"1\" class=\"dataframe\">\n",
       "  <thead>\n",
       "    <tr style=\"text-align: right;\">\n",
       "      <th></th>\n",
       "      <th>date</th>\n",
       "      <th>quantity</th>\n",
       "      <th>usage</th>\n",
       "    </tr>\n",
       "  </thead>\n",
       "  <tbody>\n",
       "    <tr>\n",
       "      <th>241</th>\n",
       "      <td>2019-09-24</td>\n",
       "      <td>1223.90</td>\n",
       "      <td>0.00</td>\n",
       "    </tr>\n",
       "    <tr>\n",
       "      <th>16</th>\n",
       "      <td>2019-01-16</td>\n",
       "      <td>282.10</td>\n",
       "      <td>12.20</td>\n",
       "    </tr>\n",
       "    <tr>\n",
       "      <th>27</th>\n",
       "      <td>2019-01-27</td>\n",
       "      <td>458.04</td>\n",
       "      <td>5.24</td>\n",
       "    </tr>\n",
       "    <tr>\n",
       "      <th>168</th>\n",
       "      <td>2019-07-13</td>\n",
       "      <td>1221.84</td>\n",
       "      <td>0.00</td>\n",
       "    </tr>\n",
       "    <tr>\n",
       "      <th>21</th>\n",
       "      <td>2019-01-21</td>\n",
       "      <td>377.71</td>\n",
       "      <td>45.88</td>\n",
       "    </tr>\n",
       "  </tbody>\n",
       "</table>\n",
       "</div>"
      ],
      "text/plain": [
       "          date  quantity  usage\n",
       "241 2019-09-24   1223.90   0.00\n",
       "16  2019-01-16    282.10  12.20\n",
       "27  2019-01-27    458.04   5.24\n",
       "168 2019-07-13   1221.84   0.00\n",
       "21  2019-01-21    377.71  45.88"
      ]
     },
     "execution_count": 129,
     "metadata": {},
     "output_type": "execute_result"
    }
   ],
   "source": [
    "df = (\n",
    "    df[['date', 'type', 'quantity']]\n",
    "    .loc[lambda d: d['type'] ==\"gas\"]\n",
    "    .reset_index()\n",
    "    .assign(usage=lambda d: d['quantity']-d['quantity'].shift(1))\n",
    "    .drop(columns=['index', 'type'])\n",
    ")\n",
    "\n",
    "df.sample(5)"
   ]
  },
  {
   "cell_type": "markdown",
   "metadata": {},
   "source": [
    "### 1.3 Definitions"
   ]
  },
  {
   "cell_type": "code",
   "execution_count": 130,
   "metadata": {},
   "outputs": [],
   "source": [
    "def plot_line(x, y,title,color):\n",
    "    return(\n",
    "        p9.ggplot() + \n",
    "        p9.geom_line(data=df, \n",
    "                     mapping=p9.aes(x=x,\n",
    "                                    y=y),\n",
    "                     color=color) + \n",
    "        p9.labs(title=title) +\n",
    "        p9.theme(figure_size=(8, 3),\n",
    "               #  plot_title=element_text(weight='bold', size = 11),\n",
    "               #  axis_title_x=element_text(weight='bold', size=9),\n",
    "               #  axis_title_y=element_text(weight='bold', size=9),\n",
    "                 axis_text_x=element_text(angle=45, size=7),\n",
    "               #  axis_text_y=element_text(size=7)\n",
    "                )\n",
    "    )"
   ]
  },
  {
   "cell_type": "code",
   "execution_count": 131,
   "metadata": {},
   "outputs": [],
   "source": [
    "def usage_mean(df):\n",
    "    usage_mean=df['usage'].mean()\n",
    "    return usage_mean\n",
    " \n",
    "def usage_max(df):\n",
    "    usage_ax=df['usage'].max()\n",
    "    return usage_max\n",
    "\n",
    "def usage_min(df):\n",
    "    usage_min=df['usage'].min()\n",
    "    return usage_min"
   ]
  },
  {
   "cell_type": "markdown",
   "metadata": {},
   "source": [
    "# 2 Eerste inzichten"
   ]
  },
  {
   "cell_type": "markdown",
   "metadata": {},
   "source": [
    "### 2.1 Gasverbruik per dag"
   ]
  },
  {
   "cell_type": "code",
   "execution_count": 132,
   "metadata": {},
   "outputs": [
    {
     "data": {
      "text/plain": [
       "<matplotlib.axes._subplots.AxesSubplot at 0x2004ef08e48>"
      ]
     },
     "execution_count": 132,
     "metadata": {},
     "output_type": "execute_result"
    },
    {
     "data": {
      "image/png": "[encoded data removed]",
      "text/plain": [
       "<Figure size 1152x288 with 1 Axes>"
      ]
     },
     "metadata": {
      "needs_background": "light"
     },
     "output_type": "display_data"
    }
   ],
   "source": [
    "(\n",
    "    df[['date', 'usage']]\n",
    "    .set_index('date')\n",
    "    .assign(usage_mean=lambda d: (d['usage']#.rolling(\"10D\").mean())\n",
    "                                  .rolling(10, center=True, win_type=\"gaussian\")\n",
    "                                  .mean(std=5)))\n",
    "    .plot(figsize=(16, 4))\n",
    ")"
   ]
  },
  {
   "cell_type": "code",
   "execution_count": 140,
   "metadata": {},
   "outputs": [
    {
     "data": {
      "image/png": "[encoded data removed]",
      "text/plain": [
       "<Figure size 1152x288 with 1 Axes>"
      ]
     },
     "metadata": {
      "needs_background": "light"
     },
     "output_type": "display_data"
    }
   ],
   "source": [
    "mean=(\n",
    "    df\n",
    "    .assign(month=lambda d: d['date'].dt.month)\n",
    "    .groupby('month')\n",
    "    .apply(lambda d: pd.Series({\"mean\": np.mean(d['usage'])}))\n",
    ")\n",
    "\n",
    "maximum=(\n",
    "    df\n",
    "    .assign(month=lambda d: d['date'].dt.month)\n",
    "    .groupby('month')\n",
    "    .apply(lambda d: pd.Series({\"max\": np.max(d['usage'])}))\n",
    ")\n",
    "\n",
    "minimal=(\n",
    "    df\n",
    "    .assign(month=lambda d: d['date'].dt.month)\n",
    "    .groupby('month')\n",
    "    .apply(lambda d: pd.Series({\"min\": np.min(d['usage'])}))\n",
    ")\n",
    "\n",
    "(\n",
    "   mean\n",
    "    .join(maximum)\n",
    "    .join(minimal)\n",
    "    .plot(figsize=(16, 4))\n",
    ")\n",
    "\n",
    "del mean\n",
    "del maximum\n",
    "del minimal"
   ]
  },
  {
   "cell_type": "code",
   "execution_count": 138,
   "metadata": {},
   "outputs": [
    {
     "data": {
      "text/plain": [
       "<matplotlib.axes._subplots.AxesSubplot at 0x2004f42d108>"
      ]
     },
     "execution_count": 138,
     "metadata": {},
     "output_type": "execute_result"
    },
    {
     "data": {
      "image/png": "[encoded data removed]",
      "text/plain": [
       "<Figure size 1152x432 with 1 Axes>"
      ]
     },
     "metadata": {
      "needs_background": "light"
     },
     "output_type": "display_data"
    }
   ],
   "source": [
    "(\n",
    "    df[['date', 'usage']]\n",
    "    .assign(month=lambda d: d['date'].dt.month)\n",
    "    .drop(['date'], axis=1)\n",
    "    .boxplot(by=['month'], figsize=(16,6))\n",
    ")"
   ]
  },
  {
   "cell_type": "code",
   "execution_count": 135,
   "metadata": {},
   "outputs": [
    {
     "data": {
      "text/plain": [
       "0.5299999999999727"
      ]
     },
     "execution_count": 135,
     "metadata": {},
     "output_type": "execute_result"
    }
   ],
   "source": [
    "df_min=(\n",
    "    df[['date','usage']]\n",
    "    .loc[lambda d: d['usage'] > 0.5]\n",
    ")\n",
    "   \n",
    "usage_summer = usage_min(df_min)\n",
    "usage_summer"
   ]
  },
  {
   "cell_type": "code",
   "execution_count": 136,
   "metadata": {},
   "outputs": [],
   "source": [
    "df_test=(\n",
    "    df\n",
    "    .copy()\n",
    "    .assign(usage_het = lambda d: d['usage'] - usage_summer)\n",
    "    .loc[lambda d: d['usage'] >= 0]\n",
    ")"
   ]
  },
  {
   "cell_type": "code",
   "execution_count": 137,
   "metadata": {},
   "outputs": [
    {
     "data": {
      "text/html": [
       "<div>\n",
       "<style scoped>\n",
       "    .dataframe tbody tr th:only-of-type {\n",
       "        vertical-align: middle;\n",
       "    }\n",
       "\n",
       "    .dataframe tbody tr th {\n",
       "        vertical-align: top;\n",
       "    }\n",
       "\n",
       "    .dataframe thead th {\n",
       "        text-align: right;\n",
       "    }\n",
       "</style>\n",
       "<table border=\"1\" class=\"dataframe\">\n",
       "  <thead>\n",
       "    <tr style=\"text-align: right;\">\n",
       "      <th></th>\n",
       "      <th>date</th>\n",
       "      <th>quantity</th>\n",
       "      <th>usage</th>\n",
       "      <th>usage_het</th>\n",
       "    </tr>\n",
       "  </thead>\n",
       "  <tbody>\n",
       "    <tr>\n",
       "      <th>1</th>\n",
       "      <td>2019-01-01</td>\n",
       "      <td>143.90</td>\n",
       "      <td>22.37</td>\n",
       "      <td>21.84</td>\n",
       "    </tr>\n",
       "    <tr>\n",
       "      <th>2</th>\n",
       "      <td>2019-01-02</td>\n",
       "      <td>149.27</td>\n",
       "      <td>5.37</td>\n",
       "      <td>4.84</td>\n",
       "    </tr>\n",
       "    <tr>\n",
       "      <th>3</th>\n",
       "      <td>2019-01-03</td>\n",
       "      <td>157.88</td>\n",
       "      <td>8.61</td>\n",
       "      <td>8.08</td>\n",
       "    </tr>\n",
       "    <tr>\n",
       "      <th>4</th>\n",
       "      <td>2019-01-04</td>\n",
       "      <td>165.02</td>\n",
       "      <td>7.14</td>\n",
       "      <td>6.61</td>\n",
       "    </tr>\n",
       "    <tr>\n",
       "      <th>5</th>\n",
       "      <td>2019-01-05</td>\n",
       "      <td>167.65</td>\n",
       "      <td>2.63</td>\n",
       "      <td>2.10</td>\n",
       "    </tr>\n",
       "    <tr>\n",
       "      <th>...</th>\n",
       "      <td>...</td>\n",
       "      <td>...</td>\n",
       "      <td>...</td>\n",
       "      <td>...</td>\n",
       "    </tr>\n",
       "    <tr>\n",
       "      <th>302</th>\n",
       "      <td>2019-11-23</td>\n",
       "      <td>1582.46</td>\n",
       "      <td>4.51</td>\n",
       "      <td>3.98</td>\n",
       "    </tr>\n",
       "    <tr>\n",
       "      <th>303</th>\n",
       "      <td>2019-11-24</td>\n",
       "      <td>1587.38</td>\n",
       "      <td>4.92</td>\n",
       "      <td>4.39</td>\n",
       "    </tr>\n",
       "    <tr>\n",
       "      <th>304</th>\n",
       "      <td>2019-11-25</td>\n",
       "      <td>1618.66</td>\n",
       "      <td>31.28</td>\n",
       "      <td>30.75</td>\n",
       "    </tr>\n",
       "    <tr>\n",
       "      <th>305</th>\n",
       "      <td>2019-11-26</td>\n",
       "      <td>1623.05</td>\n",
       "      <td>4.39</td>\n",
       "      <td>3.86</td>\n",
       "    </tr>\n",
       "    <tr>\n",
       "      <th>306</th>\n",
       "      <td>2019-11-27</td>\n",
       "      <td>1629.82</td>\n",
       "      <td>6.77</td>\n",
       "      <td>6.24</td>\n",
       "    </tr>\n",
       "  </tbody>\n",
       "</table>\n",
       "<p>306 rows × 4 columns</p>\n",
       "</div>"
      ],
      "text/plain": [
       "          date  quantity  usage  usage_het\n",
       "1   2019-01-01    143.90  22.37      21.84\n",
       "2   2019-01-02    149.27   5.37       4.84\n",
       "3   2019-01-03    157.88   8.61       8.08\n",
       "4   2019-01-04    165.02   7.14       6.61\n",
       "5   2019-01-05    167.65   2.63       2.10\n",
       "..         ...       ...    ...        ...\n",
       "302 2019-11-23   1582.46   4.51       3.98\n",
       "303 2019-11-24   1587.38   4.92       4.39\n",
       "304 2019-11-25   1618.66  31.28      30.75\n",
       "305 2019-11-26   1623.05   4.39       3.86\n",
       "306 2019-11-27   1629.82   6.77       6.24\n",
       "\n",
       "[306 rows x 4 columns]"
      ]
     },
     "execution_count": 137,
     "metadata": {},
     "output_type": "execute_result"
    }
   ],
   "source": [
    "df_test"
   ]
  },
  {
   "cell_type": "code",
   "execution_count": 145,
   "metadata": {},
   "outputs": [
    {
     "data": {
      "text/html": [
       "<div>\n",
       "<style scoped>\n",
       "    .dataframe tbody tr th:only-of-type {\n",
       "        vertical-align: middle;\n",
       "    }\n",
       "\n",
       "    .dataframe tbody tr th {\n",
       "        vertical-align: top;\n",
       "    }\n",
       "\n",
       "    .dataframe thead th {\n",
       "        text-align: right;\n",
       "    }\n",
       "</style>\n",
       "<table border=\"1\" class=\"dataframe\">\n",
       "  <thead>\n",
       "    <tr style=\"text-align: right;\">\n",
       "      <th></th>\n",
       "      <th>date</th>\n",
       "      <th>quantity</th>\n",
       "      <th>usage</th>\n",
       "    </tr>\n",
       "  </thead>\n",
       "  <tbody>\n",
       "    <tr>\n",
       "      <th>122</th>\n",
       "      <td>2019-05-28</td>\n",
       "      <td>1211.20</td>\n",
       "      <td>65.58</td>\n",
       "    </tr>\n",
       "    <tr>\n",
       "      <th>21</th>\n",
       "      <td>2019-01-21</td>\n",
       "      <td>377.71</td>\n",
       "      <td>45.88</td>\n",
       "    </tr>\n",
       "    <tr>\n",
       "      <th>295</th>\n",
       "      <td>2019-11-16</td>\n",
       "      <td>1502.47</td>\n",
       "      <td>42.85</td>\n",
       "    </tr>\n",
       "    <tr>\n",
       "      <th>35</th>\n",
       "      <td>2019-02-04</td>\n",
       "      <td>596.61</td>\n",
       "      <td>40.61</td>\n",
       "    </tr>\n",
       "    <tr>\n",
       "      <th>28</th>\n",
       "      <td>2019-01-28</td>\n",
       "      <td>494.28</td>\n",
       "      <td>36.24</td>\n",
       "    </tr>\n",
       "    <tr>\n",
       "      <th>...</th>\n",
       "      <td>...</td>\n",
       "      <td>...</td>\n",
       "      <td>...</td>\n",
       "    </tr>\n",
       "    <tr>\n",
       "      <th>176</th>\n",
       "      <td>2019-07-21</td>\n",
       "      <td>1221.84</td>\n",
       "      <td>0.00</td>\n",
       "    </tr>\n",
       "    <tr>\n",
       "      <th>177</th>\n",
       "      <td>2019-07-22</td>\n",
       "      <td>1221.84</td>\n",
       "      <td>0.00</td>\n",
       "    </tr>\n",
       "    <tr>\n",
       "      <th>178</th>\n",
       "      <td>2019-07-23</td>\n",
       "      <td>1221.84</td>\n",
       "      <td>0.00</td>\n",
       "    </tr>\n",
       "    <tr>\n",
       "      <th>154</th>\n",
       "      <td>2019-06-29</td>\n",
       "      <td>1221.84</td>\n",
       "      <td>0.00</td>\n",
       "    </tr>\n",
       "    <tr>\n",
       "      <th>0</th>\n",
       "      <td>2018-12-31</td>\n",
       "      <td>121.53</td>\n",
       "      <td>NaN</td>\n",
       "    </tr>\n",
       "  </tbody>\n",
       "</table>\n",
       "<p>307 rows × 3 columns</p>\n",
       "</div>"
      ],
      "text/plain": [
       "          date  quantity  usage\n",
       "122 2019-05-28   1211.20  65.58\n",
       "21  2019-01-21    377.71  45.88\n",
       "295 2019-11-16   1502.47  42.85\n",
       "35  2019-02-04    596.61  40.61\n",
       "28  2019-01-28    494.28  36.24\n",
       "..         ...       ...    ...\n",
       "176 2019-07-21   1221.84   0.00\n",
       "177 2019-07-22   1221.84   0.00\n",
       "178 2019-07-23   1221.84   0.00\n",
       "154 2019-06-29   1221.84   0.00\n",
       "0   2018-12-31    121.53    NaN\n",
       "\n",
       "[307 rows x 3 columns]"
      ]
     },
     "execution_count": 145,
     "metadata": {},
     "output_type": "execute_result"
    }
   ],
   "source": [
    "df.sort_values(by='usage', ascending=False)"
   ]
  },
  {
   "cell_type": "code",
   "execution_count": null,
   "metadata": {},
   "outputs": [],
   "source": []
  }
 ],
 "metadata": {
  "kernelspec": {
   "display_name": "Python 3",
   "language": "python",
   "name": "python3"
  },
  "language_info": {
   "codemirror_mode": {
    "name": "ipython",
    "version": 3
   },
   "file_extension": ".py",
   "mimetype": "text/x-python",
   "name": "python",
   "nbconvert_exporter": "python",
   "pygments_lexer": "ipython3",
   "version": "3.7.5"
  }
 },
 "nbformat": 4,
 "nbformat_minor": 4
}
